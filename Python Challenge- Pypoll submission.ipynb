{
 "cells": [
  {
   "cell_type": "code",
   "execution_count": 1,
   "id": "45e7f793",
   "metadata": {},
   "outputs": [],
   "source": [
    "# Import dependencies PyPoll\n",
    "import os, csv\n",
    "from pathlib import Path "
   ]
  },
  {
   "cell_type": "code",
   "execution_count": null,
   "id": "a4f59da7",
   "metadata": {},
   "outputs": [],
   "source": [
    "#Locate the csv file\n",
    "\n",
    "csv_file_path = Path(\"python-challenge\", \"PyPoll\", \"election_data.csv\")"
   ]
  },
  {
   "cell_type": "code",
   "execution_count": null,
   "id": "e6ce20cf",
   "metadata": {},
   "outputs": [],
   "source": [
    "#Declare variable\n",
    "\n",
    "total_votes = 0 \n",
    "khan_votes = 0\n",
    "correy_votes = 0\n",
    "li_votes = 0\n",
    "otooley_votes = 0\n",
    "\n",
    "#open csv \n",
    "\n",
    "with open(csv_file_path,newline=\"\", encoding=\"utf-8\") as elections:\n",
    "\n",
    "    \n",
    "    #store data\n",
    "    csvreader = csv.reader(elections,delimiter=\",\") \n",
    "    \n",
    "    #skip the header to stay \n",
    "header = next(csvreader)\n",
    "\n",
    "#loop through each rows in the csv\n",
    "\n",
    "for row in csvreader: \n",
    "    \n",
    "    \n",
    "    total_votes +=1\n",
    "    \n",
    " # We have four candidates if the name is found, count the times it appears and store in a list\n",
    "# We can use this values in our percent vote calculation in the print statements\n",
    "\n",
    "    if row[2] == \"Khan\": \n",
    "            khan_votes +=1\n",
    "        elif row[2] == \"Correy\":\n",
    "            correy_votes +=1\n",
    "        elif row[2] == \"Li\": \n",
    "            li_votes +=1\n",
    "        elif row[2] == \"O'Tooley\":\n",
    "            otooley_votes +=1"
   ]
  },
  {
   "cell_type": "code",
   "execution_count": null,
   "id": "0b92bad7",
   "metadata": {},
   "outputs": [],
   "source": [
    "#We can put them together through zip, the candidate (key) and the total votes (values)\n",
    "\n",
    "dict_candidates_and_votes = dict(zip(candidates,votes))\n",
    "key = max(dict_candidates_and_votes, key=dict_candidates_and_votes.get)\n",
    "\n",
    "#Printing summary of the analysis\n",
    "\n",
    "khan_percent = (khan_votes/total_votes) *100\n",
    "correy_percent = (correy_votes/total_votes) * 100\n",
    "li_percent = (li_votes/total_votes)* 100\n",
    "otooley_percent = (otooley_votes/total_votes) * 100"
   ]
  },
  {
   "cell_type": "code",
   "execution_count": null,
   "id": "2e293e5d",
   "metadata": {},
   "outputs": [],
   "source": [
    "#Printing summary\n",
    "\n",
    "print(f\"Election Results\")\n",
    "print(f\"----------------------------\")\n",
    "print(f\"Total Votes: {total_votes}\")\n",
    "print(f\"----------------------------\")\n",
    "print(f\"Khan: {khan_percent:.3f}% ({khan_votes})\")\n",
    "print(f\"Correy: {correy_percent:.3f}% ({correy_votes})\")\n",
    "print(f\"Li: {li_percent:.3f}% ({li_votes})\")\n",
    "print(f\"O'Tooley: {otooley_percent:.3f}% ({otooley_votes})\")\n",
    "print(f\"----------------------------\")\n",
    "print(f\"Winner: {key}\")\n",
    "print(f\"----------------------------\")"
   ]
  },
  {
   "cell_type": "code",
   "execution_count": null,
   "id": "cbe6ac66",
   "metadata": {},
   "outputs": [],
   "source": [
    "#Output files\n",
    "#Assign output file location \n",
    "\n",
    "output_file = Path(\"python-challenge\", \"PyPoll\", \"Election_Results_Summary.txt\")\n",
    "\n",
    "with open(output_file,\"w\") as file:\n",
    "    \n",
    "    \n",
    "    \n",
    "#print and write method\n",
    "\n",
    "file.write(f\"Election Results\")\n",
    "    file.write(\"\\n\")\n",
    "    file.write(f\"----------------------------\")\n",
    "    file.write(\"\\n\")\n",
    "    file.write(f\"Total Votes: {total_votes}\")\n",
    "    file.write(\"\\n\")\n",
    "    file.write(f\"----------------------------\")\n",
    "    file.write(\"\\n\")\n",
    "    file.write(f\"Khan: {khan_percent:.3f}% ({khan_votes})\")\n",
    "    file.write(\"\\n\")\n",
    "    file.write(f\"Correy: {correy_percent:.3f}% ({correy_votes})\")\n",
    "    file.write(\"\\n\")\n",
    "    file.write(f\"Li: {li_percent:.3f}% ({li_votes})\")\n",
    "    file.write(\"\\n\")\n",
    "    file.write(f\"O'Tooley: {otooley_percent:.3f}% ({otooley_votes})\")\n",
    "    file.write(\"\\n\")\n",
    "    file.write(f\"----------------------------\")\n",
    "    file.write(\"\\n\")\n",
    "    file.write(f\"Winner: {key}\")\n",
    "    file.write(\"\\n\")\n",
    "    file.write(f\"----------------------------\")"
   ]
  }
 ],
 "metadata": {
  "kernelspec": {
   "display_name": "Python 3 (ipykernel)",
   "language": "python",
   "name": "python3"
  },
  "language_info": {
   "codemirror_mode": {
    "name": "ipython",
    "version": 3
   },
   "file_extension": ".py",
   "mimetype": "text/x-python",
   "name": "python",
   "nbconvert_exporter": "python",
   "pygments_lexer": "ipython3",
   "version": "3.11.4"
  }
 },
 "nbformat": 4,
 "nbformat_minor": 5
}
